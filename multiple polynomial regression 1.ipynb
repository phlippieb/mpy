{
 "cells": [
  {
   "cell_type": "code",
   "execution_count": 1,
   "metadata": {},
   "outputs": [],
   "source": [
    "%load_ext autoreload"
   ]
  },
  {
   "cell_type": "code",
   "execution_count": 2,
   "metadata": {},
   "outputs": [],
   "source": [
    "%autoreload 2"
   ]
  },
  {
   "cell_type": "code",
   "execution_count": 4,
   "metadata": {},
   "outputs": [
    {
     "name": "stdout",
     "output_type": "stream",
     "text": [
      "getting db connection...\n",
      "getting db cursor...\n",
      "db ready.\n"
     ]
    }
   ],
   "source": [
    "import numpy as np\n",
    "import pandas as pd\n",
    "from sklearn.preprocessing import PolynomialFeatures\n",
    "from sklearn import linear_model\n",
    "from termcolor import colored\n",
    "import sys\n",
    "\n",
    "from results import psos, benchmarks\n",
    "from results.flc.ruggedness import fem_0_1 as fem0_1_results, \\\n",
    "    fem_0_01 as fem0_01_results\n",
    "from results.flc.neutrality import pn as pn_results, \\\n",
    "    lsn as lsn_results\n",
    "from results.flc.gradients import g_avg as g_avg_results, \\\n",
    "    g_dev as g_dev_results\n",
    "from results.flc.funnels import dm as dm_results\n",
    "from results.flc.deception import fdc as fdc_results\n",
    "from results.flc.searchability import fci_soc as fci_soc_results, \\\n",
    "    fci_cog as fci_cog_results, \\\n",
    "    fci_sigma as fci_sigma_results\n",
    "from results import drocs as droc_results\n",
    "from util.chunks import chunks"
   ]
  },
  {
   "cell_type": "code",
   "execution_count": 9,
   "metadata": {},
   "outputs": [],
   "source": [
    "# Params\n",
    "\n",
    "pso_names = psos.all_names\n",
    "swarm_size = 25\n",
    "benchmark_names = benchmarks.all_names\n",
    "benchmark_names = sorted(benchmark_names)\n",
    "num_iterations = 2000\n",
    "num_experiments = 30\n",
    "\n",
    "flcs = {\n",
    "    'fem0_1': fem0_1_results,\n",
    "    'fem0_01': fem0_01_results,\n",
    "    'pn': pn_results,\n",
    "    'lsn': lsn_results,\n",
    "    'g_avg': g_avg_results,\n",
    "    'g_dev': g_dev_results,\n",
    "    'dm': dm_results,\n",
    "    'fdc': fdc_results,\n",
    "    'fci_cog': fci_cog_results,\n",
    "    'fci_soc': fci_soc_results,\n",
    "    'fci_sigma': fci_sigma_results\n",
    "}\n",
    "flc_names = flcs.keys()\n"
   ]
  },
  {
   "cell_type": "code",
   "execution_count": 11,
   "metadata": {},
   "outputs": [],
   "source": [
    "# Data getter helpers\n",
    "\n",
    "def get_flcs(flc_name, benchmark_name):\n",
    "    # Get the measure function for the given name\n",
    "    flc_measure = flcs[flc_name]\n",
    "    \n",
    "    # Determine which dimensionality to use\n",
    "    D = 5\n",
    "    benchmark = benchmarks.get(benchmark_name)\n",
    "    if not benchmark.is_dimensionality_valid(D):\n",
    "        D = 2\n",
    "    \n",
    "    # Get the results for each experiment\n",
    "    results = []\n",
    "    for e in range(num_experiments):\n",
    "        result = flc_measure.get(benchmark_name, D, e)\n",
    "        results.append(result)\n",
    "    \n",
    "    return results\n",
    "\n"
   ]
  },
  {
   "cell_type": "code",
   "execution_count": 13,
   "metadata": {},
   "outputs": [],
   "source": [
    "# DRoCs\n",
    "\n",
    "droc_dict = {}\n",
    "for pso_name in pso_names:\n",
    "    pso_dict = {}\n",
    "    for benchmark_name in benchmark_names:\n",
    "        D = 5\n",
    "        benchmark = benchmarks.get(benchmark_name)\n",
    "        if not benchmark.is_dimensionality_valid(D):\n",
    "            D = 2\n",
    "\n",
    "        droc_vals = []\n",
    "        for e in range(num_experiments):\n",
    "            droc = droc_results.get(\n",
    "                pso_name, swarm_size, benchmark_name, D, num_iterations, e)\n",
    "            droc_vals.append(droc)\n",
    "        pso_dict[benchmark_name] = droc_vals\n",
    "    droc_dict[pso_name] = pso_dict\n",
    "droc_df = pd.DataFrame(droc_dict)\n"
   ]
  },
  {
   "cell_type": "code",
   "execution_count": 21,
   "metadata": {},
   "outputs": [
    {
     "name": "stdout",
     "output_type": "stream",
     "text": [
      "Processing zakharov                    \n",
      "Done.\n"
     ]
    }
   ],
   "source": [
    "# Only look at Gbest PSO (for now!)\n",
    "pso_name = 'gbest_pso'\n",
    "\n",
    "# The results\n",
    "X_raw = {}\n",
    "\n",
    "for benchmark_name in benchmark_names:\n",
    "    progress_msg = '\\rProcessing ' + benchmark_name\n",
    "    sys.stdout.write('\\r                                       ')\n",
    "    sys.stdout.write(progress_msg)\n",
    "    sys.stdout.flush\n",
    "    \n",
    "    # The results for this benchmark function, in list format.\n",
    "    X = pd.Series()\n",
    "    \n",
    "    # Get the mean DRoC value for this benchmark name:\n",
    "    drocs = droc_df[pso_name][benchmark_name]\n",
    "    droc_mean = np.average(drocs)\n",
    "    X = X.append(pd.Series({'DRoC': droc_mean}))\n",
    "    \n",
    "    # Each FLC\n",
    "    for flc_name in flcs.keys():\n",
    "        flc_measures = get_flcs(flc_name, benchmark_name)\n",
    "        flc_measures_mean = np.average(flc_measures)\n",
    "        X = X.append(pd.Series({flc_name: flc_measures_mean}))\n",
    "    \n",
    "    # Save the series for this benchmark function to the results.\n",
    "    X_raw[benchmark_name] = X\n",
    "\n",
    "print ''\n",
    "print 'Done.'\n",
    "data = pd.DataFrame(X_raw)\n",
    "data = data.transpose()"
   ]
  },
  {
   "cell_type": "code",
   "execution_count": 178,
   "metadata": {},
   "outputs": [],
   "source": [
    "# Define inputs and outputs\n",
    "\n",
    "input_names = [\n",
    "#     'dm',\n",
    "#     'lsn',\n",
    "    'fdc',\n",
    "    'fci_sigma',\n",
    "    'fem0_01',\n",
    "#     'fem0_1',\n",
    "    'g_avg',\n",
    "    'fci_soc',\n",
    "#     'g_dev',\n",
    "    'pn',\n",
    "#     'fci_cog'\n",
    "]\n",
    "output_name = 'DRoC'\n",
    "\n",
    "X = data[input_names]\n",
    "y = data[output_name]\n"
   ]
  },
  {
   "cell_type": "code",
   "execution_count": 179,
   "metadata": {},
   "outputs": [],
   "source": [
    "# Set up a fitting pipeline.\n",
    "\n",
    "# Params:\n",
    "degree = 2\n",
    "\n",
    "# Components etc\n",
    "pf = PolynomialFeatures(degree=degree)\n",
    "lm = linear_model.LinearRegression()\n",
    "pipeline = Pipeline([\n",
    "    ('pf', pf),\n",
    "    ('lm', lm)\n",
    "])\n"
   ]
  },
  {
   "cell_type": "code",
   "execution_count": 182,
   "metadata": {},
   "outputs": [
    {
     "name": "stdout",
     "output_type": "stream",
     "text": [
      "model:\n",
      "[(-1.6343144011443655e-06, '1'), (-756.59369269270189, 'x0'), (19537.720938568451, 'x1'), (-263.27930999170587, 'x2'), (-222.47527876843435, 'x3'), (-1106.5196040594662, 'x4'), (-4370.6125724484964, 'x5'), (-212.35480833830439, 'x0^2'), (9361.8387524537175, 'x0 x1'), (-596.46884436560322, 'x0 x2'), (32.389053604183346, 'x0 x3'), (1198.4367522930893, 'x0 x4'), (-14142.950127163995, 'x0 x5'), (-107905.43193119031, 'x1^2'), (-4684.9378940608649, 'x1 x2'), (986.54385373349771, 'x1 x3'), (-19132.525097381724, 'x1 x4'), (54.165689677795044, 'x1 x5'), (309.94611267586185, 'x2^2'), (-32.315769833576617, 'x2 x3'), (527.02205582364093, 'x2 x4'), (-8990.1084093470308, 'x2 x5'), (9.3122566208220245, 'x3^2'), (171.76314675557472, 'x3 x4'), (16073.656327763549, 'x3 x5'), (265.73698267734017, 'x4^2'), (-7274.2770837564176, 'x4 x5'), (-41.987108638240606, 'x5^2')]\n",
      "\n",
      "mse: 1.24954492685\n",
      "r2: 0.965207083992\n",
      "e.v.: 0.965207083992\n"
     ]
    }
   ],
   "source": [
    "# Here, we will use all the data as training data\n",
    "\n",
    "# Params\n",
    "print_model = True\n",
    "\n",
    "# Do the fit:\n",
    "pipeline.fit(X, y)\n",
    "\n",
    "# Get the model -- print the coefficients\n",
    "if print_model:\n",
    "    print 'model:'\n",
    "    lm = pipeline.named_steps['lm']\n",
    "    pf = pipeline.named_steps['pf']\n",
    "    print zip(lm.coef_, pf.get_feature_names())\n",
    "    print ''\n",
    "\n",
    "# Predict\n",
    "y_pred = pipeline.predict(X)\n",
    "\n",
    "# Score the prediction\n",
    "from sklearn.metrics import mean_squared_error\n",
    "print 'mse:', mean_squared_error(y, y_pred)\n",
    "\n",
    "from sklearn.metrics import r2_score\n",
    "print 'r2:', r2_score(y, y_pred)\n",
    "\n",
    "from sklearn.metrics import explained_variance_score\n",
    "print 'e.v.:', explained_variance_score(y, y_pred)\n"
   ]
  },
  {
   "cell_type": "code",
   "execution_count": 167,
   "metadata": {},
   "outputs": [
    {
     "name": "stdout",
     "output_type": "stream",
     "text": [
      "mse: 302.860215179\n",
      "r2: -0.592820813775\n",
      "e. v.: -0.193253233866\n"
     ]
    }
   ],
   "source": [
    "# Now we'll split training and test data and see what that does.\n",
    "\n",
    "# Params:\n",
    "test_size = .1\n",
    "print_model = False\n",
    "\n",
    "# Split:\n",
    "\n",
    "from sklearn.model_selection import train_test_split\n",
    "\n",
    "X_train, X_test, y_train, y_test = train_test_split(X, y, test_size=test_size)\n",
    "\n",
    "# Fit:\n",
    "pipeline.fit(X_train, y_train)\n",
    "\n",
    "# Get the model -- print the coefficients\n",
    "if print_model:\n",
    "    print 'model:'\n",
    "    lm = pipeline.named_steps['lm']\n",
    "    pf = pipeline.named_steps['pf']\n",
    "    print zip(lm.coef_, pf.get_feature_names())\n",
    "    print ''\n",
    "\n",
    "# Predict\n",
    "y_pred = pipeline.predict(X_test)\n",
    "\n",
    "# Score the prediction\n",
    "from sklearn.metrics import mean_squared_error\n",
    "print 'mse:', mean_squared_error(y_test, y_pred)\n",
    "\n",
    "from sklearn.metrics import r2_score\n",
    "print 'r2:', r2_score(y_test, y_pred)\n",
    "\n",
    "from sklearn.metrics import explained_variance_score\n",
    "print 'e. v.:', explained_variance_score(y_test, y_pred)\n"
   ]
  },
  {
   "cell_type": "markdown",
   "metadata": {},
   "source": [
    "Clearly, we overfitted -- an r-squared score of 1 should be impossible, considering the amount of randomness; also, we get really bad scores during cross-validation.\n",
    "\n",
    "How do we improve?\n",
    "1. We can reduce the number of inputs and find the best combination of inputs. A better evaluator of the model would be the adjusted r-squared (see [this](http://blog.minitab.com/blog/adventures-in-statistics-2/multiple-regession-analysis-use-adjusted-r-squared-and-predicted-r-squared-to-include-the-correct-number-of-variables)).\n",
    "2. We probably should include more data points. I believe we're only fitting to the averages now, and so we probably have more terms in the polynomial than datapoints to fit to! By including all samples, we'd hopefully make it harder for the model to overfit.\n",
    "3. We can use [non-linear regression](http://blog.minitab.com/blog/adventures-in-statistics-2/linear-or-nonlinear-regression-that-is-the-question); however, this could make it harder to analyse the relationships between predictors and outcomes, which is the only real purpose of this exercise.\n",
    "\n",
    "Another consideration is: how will we include the various PSOs in the model? Can we represent them by categorical types? Should we give them numbers?"
   ]
  },
  {
   "cell_type": "markdown",
   "metadata": {},
   "source": [
    "## More datapoints\n",
    "\n",
    "Instead of averages, let's fit to all 30 samples for each variable.\n",
    "\n",
    "We'd actually like something like a 3d dataframe here, with dimensions for\n",
    "1. FLC/DRoC\n",
    "2. Benchmark\n",
    "3. Sample\n",
    "\n",
    "But maybe we can just duplicate benchmark rows for samples."
   ]
  },
  {
   "cell_type": "code",
   "execution_count": 193,
   "metadata": {},
   "outputs": [
    {
     "name": "stdout",
     "output_type": "stream",
     "text": [
      "Processing zakharov (100%)                       \n",
      "Done.\n"
     ]
    }
   ],
   "source": [
    "# Only look at Gbest PSO (for now!)\n",
    "pso_name = 'gbest_pso'\n",
    "\n",
    "# The results\n",
    "X_raw = {}\n",
    "\n",
    "for benchmark_name in benchmark_names:    \n",
    "    for e in range(30):\n",
    "        percent = ((e+1) * 100) / 30\n",
    "        progress_msg = '\\rProcessing ' + benchmark_name + ' ({}%)'.format(percent)\n",
    "        sys.stdout.write('\\r                                                 ')\n",
    "        sys.stdout.write(progress_msg)\n",
    "        sys.stdout.flush\n",
    "\n",
    "        # The results for this benchmark function for this experiment (sample num):\n",
    "        X = pd.Series()\n",
    "    \n",
    "        # Get the mean DRoC value for this benchmark/experiment\n",
    "        droc = droc_df[pso_name][benchmark_name][e]\n",
    "        X = X.append(pd.Series({'DRoC': droc}))\n",
    "    \n",
    "        # Each FLC\n",
    "        for flc_name in flcs.keys():\n",
    "            flc_measure = get_flcs(flc_name, benchmark_name)[e]\n",
    "            X = X.append(pd.Series({flc_name: flc_measure}))\n",
    "            \n",
    "        # Save the series for this benchmark function to the results.\n",
    "        row_id = benchmark_name + '_' + '{}'.format(e)\n",
    "        X_raw[row_id] = X\n",
    "\n",
    "print ''\n",
    "print 'Done.'\n",
    "data = pd.DataFrame(X_raw)\n",
    "data = data.transpose()\n"
   ]
  },
  {
   "cell_type": "code",
   "execution_count": 194,
   "metadata": {},
   "outputs": [
    {
     "data": {
      "text/html": [
       "<div>\n",
       "<style scoped>\n",
       "    .dataframe tbody tr th:only-of-type {\n",
       "        vertical-align: middle;\n",
       "    }\n",
       "\n",
       "    .dataframe tbody tr th {\n",
       "        vertical-align: top;\n",
       "    }\n",
       "\n",
       "    .dataframe thead th {\n",
       "        text-align: right;\n",
       "    }\n",
       "</style>\n",
       "<table border=\"1\" class=\"dataframe\">\n",
       "  <thead>\n",
       "    <tr style=\"text-align: right;\">\n",
       "      <th></th>\n",
       "      <th>DRoC</th>\n",
       "      <th>dm</th>\n",
       "      <th>lsn</th>\n",
       "      <th>fdc</th>\n",
       "      <th>fci_sigma</th>\n",
       "      <th>fem0_01</th>\n",
       "      <th>fem0_1</th>\n",
       "      <th>g_avg</th>\n",
       "      <th>fci_soc</th>\n",
       "      <th>g_dev</th>\n",
       "      <th>pn</th>\n",
       "      <th>fci_cog</th>\n",
       "    </tr>\n",
       "  </thead>\n",
       "  <tbody>\n",
       "    <tr>\n",
       "      <th>ackley_0</th>\n",
       "      <td>-2.138723</td>\n",
       "      <td>-0.209901</td>\n",
       "      <td>0.0</td>\n",
       "      <td>0.743467</td>\n",
       "      <td>0.022316</td>\n",
       "      <td>0.881727</td>\n",
       "      <td>0.856617</td>\n",
       "      <td>3.410970</td>\n",
       "      <td>0.874</td>\n",
       "      <td>2.738077</td>\n",
       "      <td>0.0</td>\n",
       "      <td>0.622</td>\n",
       "    </tr>\n",
       "    <tr>\n",
       "      <th>ackley_1</th>\n",
       "      <td>-1.874630</td>\n",
       "      <td>-0.210407</td>\n",
       "      <td>0.0</td>\n",
       "      <td>0.661996</td>\n",
       "      <td>0.022316</td>\n",
       "      <td>0.878835</td>\n",
       "      <td>0.864010</td>\n",
       "      <td>3.910437</td>\n",
       "      <td>0.894</td>\n",
       "      <td>2.877590</td>\n",
       "      <td>0.0</td>\n",
       "      <td>0.582</td>\n",
       "    </tr>\n",
       "    <tr>\n",
       "      <th>ackley_10</th>\n",
       "      <td>-1.410084</td>\n",
       "      <td>-0.221065</td>\n",
       "      <td>0.0</td>\n",
       "      <td>0.696685</td>\n",
       "      <td>0.022316</td>\n",
       "      <td>0.873037</td>\n",
       "      <td>0.848276</td>\n",
       "      <td>4.371486</td>\n",
       "      <td>0.898</td>\n",
       "      <td>2.881730</td>\n",
       "      <td>0.0</td>\n",
       "      <td>0.596</td>\n",
       "    </tr>\n",
       "    <tr>\n",
       "      <th>ackley_11</th>\n",
       "      <td>-0.939707</td>\n",
       "      <td>-0.194162</td>\n",
       "      <td>0.0</td>\n",
       "      <td>0.656592</td>\n",
       "      <td>0.022316</td>\n",
       "      <td>0.883494</td>\n",
       "      <td>0.850962</td>\n",
       "      <td>3.143371</td>\n",
       "      <td>0.874</td>\n",
       "      <td>2.533255</td>\n",
       "      <td>0.0</td>\n",
       "      <td>0.570</td>\n",
       "    </tr>\n",
       "    <tr>\n",
       "      <th>ackley_12</th>\n",
       "      <td>-1.543953</td>\n",
       "      <td>-0.189737</td>\n",
       "      <td>0.0</td>\n",
       "      <td>0.619107</td>\n",
       "      <td>0.022316</td>\n",
       "      <td>0.881835</td>\n",
       "      <td>0.849616</td>\n",
       "      <td>4.965046</td>\n",
       "      <td>0.898</td>\n",
       "      <td>3.297928</td>\n",
       "      <td>0.0</td>\n",
       "      <td>0.606</td>\n",
       "    </tr>\n",
       "  </tbody>\n",
       "</table>\n",
       "</div>"
      ],
      "text/plain": [
       "               DRoC        dm  lsn       fdc  fci_sigma   fem0_01    fem0_1  \\\n",
       "ackley_0  -2.138723 -0.209901  0.0  0.743467   0.022316  0.881727  0.856617   \n",
       "ackley_1  -1.874630 -0.210407  0.0  0.661996   0.022316  0.878835  0.864010   \n",
       "ackley_10 -1.410084 -0.221065  0.0  0.696685   0.022316  0.873037  0.848276   \n",
       "ackley_11 -0.939707 -0.194162  0.0  0.656592   0.022316  0.883494  0.850962   \n",
       "ackley_12 -1.543953 -0.189737  0.0  0.619107   0.022316  0.881835  0.849616   \n",
       "\n",
       "              g_avg  fci_soc     g_dev   pn  fci_cog  \n",
       "ackley_0   3.410970    0.874  2.738077  0.0    0.622  \n",
       "ackley_1   3.910437    0.894  2.877590  0.0    0.582  \n",
       "ackley_10  4.371486    0.898  2.881730  0.0    0.596  \n",
       "ackley_11  3.143371    0.874  2.533255  0.0    0.570  \n",
       "ackley_12  4.965046    0.898  3.297928  0.0    0.606  "
      ]
     },
     "execution_count": 194,
     "metadata": {},
     "output_type": "execute_result"
    }
   ],
   "source": [
    "data.head()"
   ]
  },
  {
   "cell_type": "code",
   "execution_count": 196,
   "metadata": {},
   "outputs": [],
   "source": [
    "# Define inputs and outputs\n",
    "\n",
    "input_names = [\n",
    "    'dm',\n",
    "    'lsn',\n",
    "    'fdc',\n",
    "    'fci_sigma',\n",
    "    'fem0_01',\n",
    "    'fem0_1',\n",
    "    'g_avg',\n",
    "    'fci_soc',\n",
    "    'g_dev',\n",
    "    'pn',\n",
    "    'fci_cog'\n",
    "]\n",
    "output_name = 'DRoC'\n",
    "\n",
    "X = data[input_names]\n",
    "y = data[output_name]\n"
   ]
  },
  {
   "cell_type": "code",
   "execution_count": 197,
   "metadata": {},
   "outputs": [],
   "source": [
    "# Set up a fitting pipeline.\n",
    "\n",
    "# Params:\n",
    "degree = 2\n",
    "\n",
    "# Components etc\n",
    "pf = PolynomialFeatures(degree=degree)\n",
    "lm = linear_model.LinearRegression()\n",
    "pipeline = Pipeline([\n",
    "    ('pf', pf),\n",
    "    ('lm', lm)\n",
    "])\n"
   ]
  },
  {
   "cell_type": "code",
   "execution_count": 209,
   "metadata": {},
   "outputs": [
    {
     "name": "stdout",
     "output_type": "stream",
     "text": [
      "mse: 17.853498541\n",
      "r2: 0.543737520626\n",
      "e.v.: 0.543737520626\n"
     ]
    }
   ],
   "source": [
    "# Here, we will use all the data as training data\n",
    "\n",
    "# Params\n",
    "print_model = False\n",
    "\n",
    "# Do the fit:\n",
    "pipeline.fit(X, y)\n",
    "\n",
    "# Get the model -- print the coefficients\n",
    "if print_model:\n",
    "    print 'model:'\n",
    "    lm = pipeline.named_steps['lm']\n",
    "    pf = pipeline.named_steps['pf']\n",
    "    print zip(lm.coef_, pf.get_feature_names())\n",
    "    print ''\n",
    "\n",
    "# Predict\n",
    "y_pred = pipeline.predict(X)\n",
    "\n",
    "# Score the prediction\n",
    "from sklearn.metrics import mean_squared_error\n",
    "print 'mse:', mean_squared_error(y, y_pred)\n",
    "\n",
    "from sklearn.metrics import r2_score\n",
    "print 'r2:', r2_score(y, y_pred)\n",
    "\n",
    "from sklearn.metrics import explained_variance_score\n",
    "print 'e.v.:', explained_variance_score(y, y_pred)\n"
   ]
  },
  {
   "cell_type": "markdown",
   "metadata": {},
   "source": [
    "When using all inputs, we get a far more realistic evaluation :)\n",
    "\n",
    "For cross validation, maybe we should also get scores for the predicted y based on the training data, and then see how much those scores differ from the scores based on test data?"
   ]
  },
  {
   "cell_type": "code",
   "execution_count": 208,
   "metadata": {},
   "outputs": [
    {
     "name": "stdout",
     "output_type": "stream",
     "text": [
      "train:\n",
      "mse: 17.1050630779\n",
      "r2: 0.531072281015\n",
      "e. v.: 0.531072281015\n",
      "test:\n",
      "mse: 28.673614737\n",
      "r2: 0.543248983858\n",
      "e. v.: 0.543265675734\n"
     ]
    }
   ],
   "source": [
    "# Now we'll split training and test data and see what that does.\n",
    "\n",
    "# Params:\n",
    "test_size = .1\n",
    "print_model = False\n",
    "\n",
    "# Split:\n",
    "\n",
    "from sklearn.model_selection import train_test_split\n",
    "\n",
    "X_train, X_test, y_train, y_test = train_test_split(X, y, test_size=test_size)\n",
    "\n",
    "# Fit:\n",
    "pipeline.fit(X_train, y_train)\n",
    "\n",
    "# Get the model -- print the coefficients\n",
    "if print_model:\n",
    "    print 'model:'\n",
    "    lm = pipeline.named_steps['lm']\n",
    "    pf = pipeline.named_steps['pf']\n",
    "    print zip(lm.coef_, pf.get_feature_names())\n",
    "    print ''\n",
    "\n",
    "from sklearn.metrics import mean_squared_error\n",
    "from sklearn.metrics import r2_score\n",
    "from sklearn.metrics import explained_variance_score\n",
    "\n",
    "#\n",
    "# Evaluate the prediction on the training data:\n",
    "#\n",
    "\n",
    "# Predict:\n",
    "y_pred = pipeline.predict(X_train)\n",
    "\n",
    "print 'train:'\n",
    "print 'mse:', mean_squared_error(y_train, y_pred)\n",
    "print 'r2:', r2_score(y_train, y_pred)\n",
    "print 'e. v.:', explained_variance_score(y_train, y_pred)\n",
    "\n",
    "#\n",
    "# Evaluate the prediction on the test data:\n",
    "#\n",
    "\n",
    "# Predict\n",
    "y_pred = pipeline.predict(X_test)\n",
    "\n",
    "# Score the prediction\n",
    "\n",
    "print 'test:'\n",
    "print 'mse:', mean_squared_error(y_test, y_pred)\n",
    "print 'r2:', r2_score(y_test, y_pred)\n",
    "print 'e. v.:', explained_variance_score(y_test, y_pred)\n"
   ]
  },
  {
   "cell_type": "markdown",
   "metadata": {},
   "source": [
    "This one's weird because you get better/worse results (where the model predicts the training data better or worse) based on how the data is split for cross validation. So there's probably some more and less important predictors in the data, and the question is just which ones they are?\n",
    "\n",
    "Let's figure out how to do **adjusted r squared**.\n",
    "\n",
    "Here's a [stackoverflow post](https://stackoverflow.com/questions/42033720/python-sklearn-multiple-linear-regression-display-r-squared) with some code that does it."
   ]
  },
  {
   "cell_type": "markdown",
   "metadata": {},
   "source": [
    "As a function:"
   ]
  },
  {
   "cell_type": "code",
   "execution_count": 273,
   "metadata": {},
   "outputs": [],
   "source": [
    "def adjusted_r2_score(y, y_pred):\n",
    "    SS_Residual = sum((y-y_pred)**2)\n",
    "    SS_Total = sum((y-np.mean(y))**2)\n",
    "    r_squared = 1 - (float(SS_Residual))/SS_Total\n",
    "    adjusted_r_squared = 1 - (1-r_squared)*(len(y)-1)/(len(y)-X.shape[1]-1)\n",
    "    return adjusted_r_squared"
   ]
  },
  {
   "cell_type": "markdown",
   "metadata": {},
   "source": [
    "Now we can follow two routes.\n",
    "\n",
    "We can try and find the best complete model by trying different input combinations.\n",
    "For this, it would be cool to automate the process by trying all possible input combinations and ranking them by their `adjusted_r2_scores`. That way, the input combo with the best score will yield the most complete explanation.\n",
    "\n",
    "Alternatively, we can build models from simple input combos (limited to 2 or 3 inputs) that are easy to interpret. We can then discuss these models easily -- e.g., we might say that ruggedness increases DRoC, but the effect is mitigated by deception (just talking out of my ass though :). Not sure how we'd select these models to discuss -- maybe just select the small models with the greatest explanatory power?\n",
    "\n",
    "As per Jade's advice, we should probably go for whatever is easiest to discuss.\n",
    "However, it might be easier to focus on small models once we know which predictors are the most significant, by trying out all models, or by examining the best model.\n",
    "\n",
    "So let's start by creating and evaluating all models."
   ]
  },
  {
   "cell_type": "code",
   "execution_count": 332,
   "metadata": {
    "scrolled": true
   },
   "outputs": [
    {
     "name": "stdout",
     "output_type": "stream",
     "text": [
      "New best:                                                 \n",
      "score: 0.0199310821864\n",
      "inputs: ['dm']\n",
      "degree: 1\n",
      "\n",
      "New best:                                                 \n",
      "score: 0.0379026585671\n",
      "inputs: ['fdc']\n",
      "degree: 1\n",
      "\n",
      "New best:                                                 \n",
      "score: 0.0451723977835\n",
      "inputs: ['fci_sigma']\n",
      "degree: 1\n",
      "\n",
      "New best:                                                 \n",
      "score: 0.0557087250927\n",
      "inputs: ['dm']\n",
      "degree: 2\n",
      "\n",
      "New best:                                                 \n",
      "score: 0.071577674932\n",
      "inputs: ['fdc']\n",
      "degree: 2\n",
      "\n",
      "New best:                                                 \n",
      "score: 0.0827659246775\n",
      "inputs: ['fci_sigma']\n",
      "degree: 2\n",
      "\n",
      "New best:                                                 \n",
      "score: 0.0893614887606\n",
      "inputs: ['dm']\n",
      "degree: 3\n",
      "\n",
      "New best:                                                 \n",
      "score: 0.102397126484\n",
      "inputs: ['fdc']\n",
      "degree: 3\n",
      "\n",
      "New best:                                                 \n",
      "score: 0.144410190256\n",
      "inputs: ['dm', 'fci_sigma']\n",
      "degree: 2\n",
      "\n",
      "New best:                                                 \n",
      "score: 0.156227255989\n",
      "inputs: ['fdc', 'fci_sigma']\n",
      "degree: 2\n",
      "\n",
      "New best:                                                 \n",
      "score: 0.192062857264\n",
      "inputs: ['fci_sigma', 'fem0_1']\n",
      "degree: 2\n",
      "\n",
      "New best:                                                 \n",
      "score: 0.314815036055\n",
      "inputs: ['dm', 'fci_sigma']\n",
      "degree: 3\n",
      "\n",
      "New best:                                                 \n",
      "score: 0.316440684004\n",
      "inputs: ['fdc', 'fci_sigma']\n",
      "degree: 3\n",
      "\n",
      "New best:                                                  \n",
      "score: 0.324012035788\n",
      "inputs: ['fci_sigma', 'fem0_01', 'fem0_1']\n",
      "degree: 2\n",
      "\n",
      "New best:                                                  \n",
      "score: 0.420927461536\n",
      "inputs: ['dm', 'lsn', 'fci_sigma']\n",
      "degree: 3\n",
      "\n",
      "New best:                                                 \n",
      "score: 0.597155165749\n",
      "inputs: ['dm', 'fci_sigma', 'fem0_01']\n",
      "degree: 3\n",
      "\n",
      "processing... (in:3/deg:3/combo:164)                       \n",
      "\n",
      "best:\n",
      "score: 0.597155165749\n",
      "inputs: ['dm', 'fci_sigma', 'fem0_01']\n",
      "degree: 3\n",
      "model: [(0.0, '1'), (933.1011588914472, 'x0'), (2338.5242662091482, 'x1'), (-295.03700694840529, 'x2'), (1205.165638752062, 'x0^2'), (-52220.980392731806, 'x0 x1'), (807.50701664999701, 'x0 x2'), (-310770.39600258926, 'x1^2'), (11729.787799430624, 'x1 x2'), (293.44472907762417, 'x2^2'), (1260.474904613066, 'x0^3'), (-26150.750681352431, 'x0^2 x1'), (317.78730467138126, 'x0^2 x2'), (541281.50803261495, 'x0 x1^2'), (-840.68166413358631, 'x0 x1 x2'), (-671.37632092148624, 'x0 x2^2'), (1514289.910456819, 'x1^3'), (323341.12849280896, 'x1^2 x2'), (-24305.59818525059, 'x1 x2^2'), (131.46142380177625, 'x2^3')]\n"
     ]
    }
   ],
   "source": [
    "def score(X, y, degree):\n",
    "    pf = PolynomialFeatures(degree=degree)\n",
    "    lm = linear_model.LinearRegression()\n",
    "    pipeline = Pipeline([\n",
    "        ('pf', pf),\n",
    "        ('lm', lm)\n",
    "    ])\n",
    "    \n",
    "    pipeline.fit(X, y)\n",
    "    \n",
    "    y_pred = pipeline.predict(X)\n",
    "    return adjusted_r2_score(y, y_pred), pipeline\n",
    "\n",
    "from itertools import combinations\n",
    "\n",
    "all_flc_names = flcs.keys()\n",
    "best_r = -float('inf')\n",
    "best_inputs = []\n",
    "best_degree = 0\n",
    "best_model = None\n",
    "best_y_pred = []\n",
    "best_residuals = []\n",
    "\n",
    "# max_inputs = len(all_flc_names)\n",
    "max_inputs = 4 # actually up to max_inputs-1\n",
    "max_degree = 4 # actually up to max_degree-1\n",
    "play_by_play = True\n",
    "for l in range(1, max_inputs):\n",
    "    for degree in range(1, max_degree):\n",
    "        combos = combinations(all_flc_names, l)\n",
    "        for (i, combo) in enumerate(combos):\n",
    "            print '\\rprocessing... (in:{}/deg:{}/combo:{})                       \\r'.format(l, degree, i),\n",
    "            flc_names = list(combo)\n",
    "            X = data[flc_names]\n",
    "            y = data['DRoC']\n",
    "            r, pipeline = score(X, y, degree)\n",
    "            if r > best_r:\n",
    "                if play_by_play:\n",
    "                    print '\\rNew best:                                                 '\n",
    "                    print 'score:', r\n",
    "                    print 'inputs:', flc_names\n",
    "                    print 'degree:', degree\n",
    "                    print ''\n",
    "                best_r = r\n",
    "                best_inputs = flc_names\n",
    "                best_degree = degree\n",
    "                lm = pipeline.named_steps['lm']\n",
    "                pf = pipeline.named_steps['pf']\n",
    "                best_model = zip(lm.coef_, pf.get_feature_names())\n",
    "                y_pred = pipeline.predict(X)\n",
    "                best_y_pred = y_pred\n",
    "                best_residuals = y - y_pred\n",
    "\n",
    "print ''\n",
    "print '\\nbest:'\n",
    "print 'score:', best_r\n",
    "print 'inputs:', best_inputs\n",
    "print 'degree:', best_degree\n",
    "print 'model:', best_model"
   ]
  },
  {
   "cell_type": "code",
   "execution_count": 276,
   "metadata": {},
   "outputs": [
    {
     "name": "stdout",
     "output_type": "stream",
     "text": [
      "0.0199310821864\n"
     ]
    }
   ],
   "source": [
    "# Sanity check\n",
    "\n",
    "X = data[['dm']]\n",
    "y = data['DRoC']\n",
    "degree = 1\n",
    "\n",
    "pf = PolynomialFeatures(degree=degree)\n",
    "lm = linear_model.LinearRegression()\n",
    "pipeline = Pipeline([\n",
    "    ('pf', pf),\n",
    "    ('lm', lm)\n",
    "])\n",
    "pipeline.fit(X, y)\n",
    "y_pred = pipeline.predict(X)\n",
    "score = adjusted_r2_score(y, y_pred)\n",
    "print score"
   ]
  },
  {
   "cell_type": "code",
   "execution_count": 306,
   "metadata": {},
   "outputs": [
    {
     "name": "stdout",
     "output_type": "stream",
     "text": [
      "[(0.0, '1'), (933.1011588914472, 'dm'), (2338.5242662091482, 'fci_sigma'), (-295.03700694840529, 'fem0_01'), (1205.165638752062, 'dm^2'), (-52220.980392731806, 'dm fci_sigma'), (807.50701664999701, 'dm fem0_01'), (-310770.39600258926, 'fci_sigma^2'), (11729.787799430624, 'fci_sigma fem0_01'), (293.44472907762417, 'fem0_01^2'), (1260.474904613066, 'dm^3'), (-26150.750681352431, 'dm^2 fci_sigma'), (317.78730467138126, 'dm^2 fem0_01'), (541281.50803261495, 'dm fci_sigma^2'), (-840.68166413358631, 'dm fci_sigma fem0_01'), (-671.37632092148624, 'dm fem0_01^2'), (1514289.910456819, 'fci_sigma^3'), (323341.12849280896, 'fci_sigma^2 fem0_01'), (-24305.59818525059, 'fci_sigma fem0_01^2'), (131.46142380177625, 'fem0_01^3')]\n"
     ]
    }
   ],
   "source": [
    "# The best model with actual input names\n",
    "\n",
    "s = str(best_model)\n",
    "\n",
    "def _replacing_term(s, term_num, inputs):\n",
    "    if len(inputs) > term_num:\n",
    "        term_name = 'x{}'.format(term_num)\n",
    "        s = s.replace(term_name, inputs[term_num])\n",
    "    return s\n",
    "\n",
    "# Go down (so that we replace '10' before '1')\n",
    "for i in range(len(best_inputs), -1, -1):\n",
    "    s = _replacing_term(s, i, best_inputs)\n",
    "\n",
    "print s"
   ]
  },
  {
   "cell_type": "code",
   "execution_count": 317,
   "metadata": {},
   "outputs": [
    {
     "name": "stdout",
     "output_type": "stream",
     "text": [
      "['dm', 'fci_sigma', 'fem0_01']\n"
     ]
    }
   ],
   "source": [
    "import seaborn as sns\n",
    "print best_inputs"
   ]
  },
  {
   "cell_type": "code",
   "execution_count": 318,
   "metadata": {},
   "outputs": [
    {
     "data": {
      "text/plain": [
       "<matplotlib.axes._subplots.AxesSubplot at 0x1a29fa8150>"
      ]
     },
     "execution_count": 318,
     "metadata": {},
     "output_type": "execute_result"
    },
    {
     "data": {
      "image/png": "[encoded data removed]",
      "text/plain": [
       "<Figure size 432x288 with 1 Axes>"
      ]
     },
     "metadata": {},
     "output_type": "display_data"
    }
   ],
   "source": [
    "flc_name = ['dm']\n",
    "X = data[flc_name]\n",
    "sns.residplot(X, best_residuals)"
   ]
  },
  {
   "cell_type": "markdown",
   "metadata": {},
   "source": [
    "This actually looks kinda good? definitely higher residuals at low values, but better than I expected."
   ]
  },
  {
   "cell_type": "code",
   "execution_count": 319,
   "metadata": {},
   "outputs": [
    {
     "data": {
      "text/plain": [
       "<matplotlib.axes._subplots.AxesSubplot at 0x1a29ede310>"
      ]
     },
     "execution_count": 319,
     "metadata": {},
     "output_type": "execute_result"
    },
    {
     "data": {
      "image/png": "[encoded data removed]",
      "text/plain": [
       "<Figure size 432x288 with 1 Axes>"
      ]
     },
     "metadata": {},
     "output_type": "display_data"
    }
   ],
   "source": [
    "flc_name = 'fci_sigma'\n",
    "X = data[flc_name]\n",
    "sns.residplot(X, best_residuals)"
   ]
  },
  {
   "cell_type": "code",
   "execution_count": 331,
   "metadata": {},
   "outputs": [
    {
     "data": {
      "text/plain": [
       "<matplotlib.axes._subplots.AxesSubplot at 0x1a2bde3810>"
      ]
     },
     "execution_count": 331,
     "metadata": {},
     "output_type": "execute_result"
    },
    {
     "data": {
      "image/png": "[encoded data removed]",
      "text/plain": [
       "<Figure size 432x288 with 1 Axes>"
      ]
     },
     "metadata": {},
     "output_type": "display_data"
    }
   ],
   "source": [
    "flc_name = 'fem0_01'\n",
    "X = data[flc_name]\n",
    "sns.residplot(X, best_residuals)"
   ]
  },
  {
   "cell_type": "markdown",
   "metadata": {},
   "source": [
    "For FEM_0.01, there seems to be some issues.\n",
    "\n",
    "And in general, resid seems to depend on X, somewhat"
   ]
  },
  {
   "cell_type": "code",
   "execution_count": 328,
   "metadata": {},
   "outputs": [
    {
     "data": {
      "image/png": "[encoded data removed]",
      "text/plain": [
       "<Figure size 432x288 with 1 Axes>"
      ]
     },
     "metadata": {},
     "output_type": "display_data"
    }
   ],
   "source": [
    "# Combined:\n",
    "\n",
    "colors = ['black', 'red', 'blue']\n",
    "for (i, flc_name) in enumerate(best_inputs):\n",
    "    X = data[flc_name]\n",
    "    sns.residplot(X, best_residuals, color=colors[i])"
   ]
  },
  {
   "cell_type": "markdown",
   "metadata": {},
   "source": [
    "Ok, let's call that 'playing with the data'.\n",
    "\n",
    "We can now get the best model with up to _n_ inputs and up to _m_ degrees, print the model as expressed by its coefficients, and plot residuals for each input. Nice!\n",
    "\n",
    "Now is probably the time to extract something from this that we can actually write about.\n",
    "\n",
    "We should probably\n",
    "- Limit the degree to a low value, preferably 2, and\n",
    "- Find the best model (in terms of adjust r^2), all terms considered\n",
    "- Discuss that model\n",
    "\n",
    "And also\n",
    "- Consider a number of simpler models consisting of fewer terms, also in a low degree\n",
    "- (Be able to motivate our selection)\n",
    "- Discuss those models"
   ]
  },
  {
   "cell_type": "markdown",
   "metadata": {},
   "source": [
    "(actually, if we could limit the polynomial degree to 1, that would be ideal, but we'd probably get useless models)"
   ]
  },
  {
   "cell_type": "markdown",
   "metadata": {},
   "source": [
    "Also, should we consider other types of regression that are less prone to overfitting? Ideally, I'd say yes, but do we have time? We do not."
   ]
  },
  {
   "cell_type": "markdown",
   "metadata": {},
   "source": [
    "Also, **TODO**: We should have used all the data for the single flc correlation coefficients, and not just means. Update and see if anything needs to change.\n",
    "(Edit: looks like it might already be like that. Just double check.)"
   ]
  },
  {
   "cell_type": "markdown",
   "metadata": {},
   "source": [
    "# A. Best model\n",
    "\n",
    "## All terms considered\n",
    "\n",
    "(TODO: find the best model and get all data needed to discuss it)"
   ]
  },
  {
   "cell_type": "code",
   "execution_count": 340,
   "metadata": {},
   "outputs": [
    {
     "name": "stdout",
     "output_type": "stream",
     "text": [
      "processing... (in:10/deg:2/combo:10)                       \n",
      "\n",
      "best:\n",
      "score: 0.53648111053\n",
      "inputs: ['dm', 'lsn', 'fdc', 'fci_sigma', 'fem0_01', 'fem0_1', 'g_avg', 'fci_soc', 'g_dev', 'fci_cog']\n",
      "degree: 2\n",
      "model: [(2.0705794280478976e-05, '1'), (354.19161453305736, 'x0'), (7876.1322659858024, 'x1'), (22.1171303961791, 'x2'), (4730.0567543969946, 'x3'), (-96.73345214568927, 'x4'), (-8.8962029823281625, 'x5'), (-30.197958063755618, 'x6'), (-111.42375405284442, 'x7'), (14.775734719562479, 'x8'), (-42.624740018824291, 'x9'), (135.6335063184095, 'x0^2'), (5973.2934550410728, 'x0 x1'), (-77.982117558093961, 'x0 x2'), (-1001.7044342376762, 'x0 x3'), (-87.052998458440499, 'x0 x4'), (-46.343921733502128, 'x0 x5'), (-28.618697917465539, 'x0 x6'), (98.284175977016474, 'x0 x7'), (14.877412344308425, 'x0 x8'), (-237.18360144872668, 'x0 x9'), (10159.891607484149, 'x1^2'), (1908.0465932107641, 'x1 x2'), (-322664.67721439776, 'x1 x3'), (-1100.9662979043294, 'x1 x4'), (5875.8866364866644, 'x1 x5'), (153.04571695638751, 'x1 x6'), (-1620.7965600877262, 'x1 x7'), (32.680418722162088, 'x1 x8'), (-3866.5176410970112, 'x1 x9'), (-8.6147225106806218, 'x2^2'), (329.2363903132362, 'x2 x3'), (-32.830499380738274, 'x2 x4'), (-21.690324061458199, 'x2 x5'), (1.1391709476079086, 'x2 x6'), (27.373757488045612, 'x2 x7'), (-0.86335175476483528, 'x2 x8'), (-43.899692708870191, 'x2 x9'), (-35999.675439886749, 'x3^2'), (-3593.6947735900585, 'x3 x4'), (314.58542828293957, 'x3 x5'), (341.37666476513368, 'x3 x6'), (196.65727897997073, 'x3 x7'), (-326.31266513420746, 'x3 x8'), (-78.172858165482268, 'x3 x9'), (45.004984034122344, 'x4^2'), (162.35967219294696, 'x4 x5'), (-4.3863729428676379, 'x4 x6'), (-16.290973161331863, 'x4 x7'), (14.599915477386276, 'x4 x8'), (62.881413803816656, 'x4 x9'), (-30.535745670841095, 'x5^2'), (-0.93269631210296211, 'x5 x6'), (25.321583075886764, 'x5 x7'), (-5.4763882022011785, 'x5 x8'), (-112.80612295126346, 'x5 x9'), (0.22924128107388242, 'x6^2'), (0.31541368683383553, 'x6 x7'), (0.20264612645223679, 'x6 x8'), (21.258398042491876, 'x6 x9'), (52.099800347603576, 'x7^2'), (0.77513886542419641, 'x7 x8'), (36.054451653236427, 'x7 x9'), (0.19628684949907438, 'x8^2'), (-12.259827951610077, 'x8 x9'), (30.150235789916309, 'x9^2')]\n"
     ]
    }
   ],
   "source": [
    "all_flc_names = flcs.keys()\n",
    "best_r = -float('inf')\n",
    "best_inputs = []\n",
    "best_degree = 0\n",
    "best_model = None\n",
    "best_y_pred = []\n",
    "best_residuals = []\n",
    "\n",
    "max_inputs = len(all_flc_names)\n",
    "max_degree = 3 # actually up to max_degree-1\n",
    "for l in range(1, max_inputs):\n",
    "    for degree in range(1, max_degree):\n",
    "        combos = combinations(all_flc_names, l)\n",
    "        for (i, combo) in enumerate(combos):\n",
    "            print '\\rprocessing... (in:{}/deg:{}/combo:{})                       \\r'.format(l, degree, i),\n",
    "            flc_names = list(combo)\n",
    "            X = data[flc_names]\n",
    "            y = data['DRoC']\n",
    "            r, pipeline = score(X, y, degree)\n",
    "            if r > best_r:\n",
    "                best_r = r\n",
    "                best_inputs = flc_names\n",
    "                best_degree = degree\n",
    "                lm = pipeline.named_steps['lm']\n",
    "                pf = pipeline.named_steps['pf']\n",
    "                best_model = zip(lm.coef_, pf.get_feature_names())\n",
    "                y_pred = pipeline.predict(X)\n",
    "                best_y_pred = y_pred\n",
    "                best_residuals = y - y_pred\n",
    "\n",
    "print ''\n",
    "print '\\nbest:'\n",
    "print 'score:', best_r\n",
    "print 'inputs:', best_inputs\n",
    "print 'degree:', best_degree\n",
    "print 'model:', best_model"
   ]
  },
  {
   "cell_type": "code",
   "execution_count": 341,
   "metadata": {},
   "outputs": [
    {
     "name": "stdout",
     "output_type": "stream",
     "text": [
      "66\n"
     ]
    }
   ],
   "source": [
    "print len(best_model)"
   ]
  },
  {
   "cell_type": "markdown",
   "metadata": {},
   "source": [
    "# B. Other models\n",
    "\n",
    "## With fewer inputs considered\n",
    "\n",
    "TODO 1: Explore and pick a few models. The idea should probably be to cover all FLCs?\n",
    "\n",
    "TODO 2: Find all data needed to discuss models."
   ]
  },
  {
   "cell_type": "code",
   "execution_count": null,
   "metadata": {},
   "outputs": [],
   "source": []
  },
  {
   "cell_type": "markdown",
   "metadata": {},
   "source": [
    "# Writing it up\n",
    "\n",
    "The above is only for a single PSO.\n",
    "- Should we average the terms across all PSOs? \n",
    "- Should we plot them? We can (might??) do a nice parallel coordinates plot to see which terms are consistently significant\n",
    "\n",
    "Also, I'm worried that we didn't explicitly avoid overfitting, and might still be susceptible. Check out ways to do that and/or check for that. EDIT: the way to avoid overfitting is to include enough data, and I think we have enough."
   ]
  },
  {
   "cell_type": "code",
   "execution_count": null,
   "metadata": {},
   "outputs": [],
   "source": []
  }
 ],
 "metadata": {
  "kernelspec": {
   "display_name": "Python [conda env:miniconda2]",
   "language": "python",
   "name": "conda-env-miniconda2-py"
  },
  "language_info": {
   "codemirror_mode": {
    "name": "ipython",
    "version": 2
   },
   "file_extension": ".py",
   "mimetype": "text/x-python",
   "name": "python",
   "nbconvert_exporter": "python",
   "pygments_lexer": "ipython2",
   "version": "2.7.15"
  }
 },
 "nbformat": 4,
 "nbformat_minor": 2
}
