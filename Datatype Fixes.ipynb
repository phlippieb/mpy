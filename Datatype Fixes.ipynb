{
 "cells": [
  {
   "cell_type": "markdown",
   "metadata": {},
   "source": [
    "# Datatype Fixes\n",
    "\n",
    "## Reasoning\n",
    "\n",
    "I have recently discovered that the default datatype that I have been using with Python/NumPy, namely Float (I think), has an insufficiently high max value. When that max is reached, the value of the number is set to `inf`. This will naturally break various calculations, and requires the data to be repaired where appropriate.\n",
    "\n",
    "\n",
    "## Recourse\n",
    "\n",
    "The reparation should be done as follows, more or less:\n",
    "\n",
    "1. Determine which datatype is apprioriate **in Python**\n",
    "2. Update the Python codebase to use the approriate datatype\n",
    "3. Determine which datatype is appropriate **in SQL/PostgreSQL**\n",
    "4. Migrate the database tables, where needed, to use the appropriate datatype\n",
    "5. Determine which data is affected by the type error\n",
    "    1. This might be all rows for certain benchmark functions (such as Schwefel 2.22) in sufficiently high dimensions\n",
    "    2. And/or all rows that store values corresponding to the Python Float `inf` value; however, for the stored diversity and DRoC values, the fitness values are not stored, so this is not a powerful detection method\n",
    "6. Delete the detected rows from the database\n",
    "7. Re-run all data generation scripts to re-calculate the affected rows\n",
    "\n",
    "## Considerations\n",
    "\n",
    "It might be worth it to do the re-calculations on GCloud; this can become an expensive effort. However, the remote database has become out of sync with my local database due to previous reparations. Therefore it is important to also delete the rows corresponding to previously erroneous PSO algorithms; git can be used to determine which those were.\n"
   ]
  },
  {
   "cell_type": "markdown",
   "metadata": {},
   "source": [
    "# 1. Which datatype is appropriate in Python?\n",
    "\n",
    "According to [this](https://stackoverflow.com/a/3477332/1469018), the `long` type has unlimited precision.\n",
    "\n",
    "We should be able to verify this by comparing the result of a function that produces `inf` with `float` types to that with `long` types:"
   ]
  },
  {
   "cell_type": "code",
   "execution_count": 21,
   "metadata": {},
   "outputs": [
    {
     "name": "stdout",
     "output_type": "stream",
     "text": [
      "with default datatype: 250.0\n",
      "with long: 0\n"
     ]
    }
   ],
   "source": [
    "import numpy as np\n",
    "\n",
    "from psodroc.benchmarks import schwefel_2_22 as bench\n",
    "\n",
    "# The Schwefel 2.22 function produces very large numbers in 1,000 dimensions.\n",
    "D = 500\n",
    "x = .5\n",
    "\n",
    "\n",
    "xs = np.full(D, x)\n",
    "fitness1 = bench.function(xs)\n",
    "print 'with default datatype:', fitness1\n",
    "\n",
    "xs = np.full(D, x, dtype=long)\n",
    "fitness2 = bench.function(xs)\n",
    "print 'with long:', fitness2"
   ]
  },
  {
   "cell_type": "markdown",
   "metadata": {},
   "source": [
    "Play around with x. Clearly, something is wrong:\n",
    "1. With `x = 3.`, the results are the same (and very large)\n",
    "2. With `x = 4.`, the float resulat is very large, but the long result is only 2000; this is clearly wrong.\n",
    "3. With `x = .5`, the long result is `0`; long is an integer type!"
   ]
  },
  {
   "cell_type": "markdown",
   "metadata": {},
   "source": [
    "Instead, let's try the _decimal_ type ([docs](https://docs.python.org/3/library/decimal.html#module-decimal)):"
   ]
  },
  {
   "cell_type": "code",
   "execution_count": 36,
   "metadata": {},
   "outputs": [
    {
     "name": "stdout",
     "output_type": "stream",
     "text": [
      "float: inf\n",
      "decimal: 1.000000000000000000000000000E+1000\n"
     ]
    }
   ],
   "source": [
    "import numpy as np\n",
    "from decimal import *\n",
    "\n",
    "from psodroc.benchmarks import schwefel_2_22 as b\n",
    "\n",
    "D = 1000\n",
    "x = 10.\n",
    "\n",
    "xs = np.full(D, x)\n",
    "f1 = b.function(xs)\n",
    "print 'float:', f1\n",
    "\n",
    "# xs = np.full(D, x, dtype=Decimal)\n",
    "xs = [Decimal(x) for x in xs]\n",
    "f2 = b.function(xs)\n",
    "print 'decimal:', f2"
   ]
  },
  {
   "cell_type": "markdown",
   "metadata": {},
   "source": [
    "Seems to work nicely. However, `dtype=Decimal` cannot be passed to numpy functions; numpy doesn't recognize the type. (Any version that seems to do that, actually just passes the values as `object`). Whether this approach (\"casting\" each element to a Decimal object) actually works the way it seems is not certain; see the answers and comments on [this post](https://stackoverflow.com/questions/7770870/numpy-array-with-dtype-decimal). \n",
    "\n",
    "Another often-suggested approach is to use _mpmath_ or (_SymPy_, which is built on _mpmath_).\n",
    "\n",
    "Anyway, I do think _Decimal_ is the way to go; it will just require a lot of rewriting."
   ]
  },
  {
   "cell_type": "markdown",
   "metadata": {},
   "source": [
    "# 2. Update the Python codebase to use Decimal instead of float\n",
    "\n",
    "## Which results are affected?\n",
    "\n",
    "Could be only the ones where fitnesses go off the charts (incl Schwefel 2.22)\n",
    "\n",
    "- Which would propogate those values to the PSOs solving them\n",
    "- And also break the FLCs evaluating those fitnesses\n",
    "\n",
    "So we could either (1) update those functions to convert their inputs to Decimal, or (2) update everything that uses those functions to convert their data to Decimal.\n",
    "\n",
    "Considerations:\n",
    "\n",
    "1. The functions would then return Decimal types, which may have adverse side-effects, requiring us to update the clients anyway\n",
    "2. The functions cannot necessarily process Decimal input types (e.g. Weierstrass cannot), requiring us to update the functions anyway.\n",
    "\n",
    "So seemingly, a hybrid approach is needed."
   ]
  },
  {
   "cell_type": "markdown",
   "metadata": {},
   "source": [
    "## Problematic benchmark functions\n",
    "\n",
    "We can try and determine which benchmark functions (can) produce prolematic results by sampling various inputs and looking for `inf`, `-inf` or `nan`."
   ]
  },
  {
   "cell_type": "code",
   "execution_count": 69,
   "metadata": {
    "scrolled": false
   },
   "outputs": [
    {
     "name": "stdout",
     "output_type": "stream",
     "text": [
      "checking ackley ...\n",
      "checking alpine ...\n",
      "checking beale ...\n",
      "checking bohachevsky1_generalized ...\n",
      "checking eggholder ...\n",
      "checking goldstein_price ...\n",
      "checking griewank ...\n",
      "checking levy13_generalized ...\n",
      "checking michalewicz ...\n",
      "checking pathological ...\n",
      "checking quadric ...\n",
      "checking quartic ...\n",
      "checking rastrigin ...\n",
      "checking rosenbrock ...\n",
      "checking salomon ...\n",
      "checking schwefel_2_22 ...\n",
      "checking schwefel_2_26 ...\n",
      "checking six_hump_camel_back ...\n",
      "checking skew_rastrigin ...\n",
      "checking spherical ...\n",
      "checking step ...\n",
      "checking weierstrass ...\n",
      "checking zakharov ...\n",
      "\n",
      "All problematic names:\n",
      "set([])\n"
     ]
    }
   ],
   "source": [
    "import math\n",
    "import numpy as np\n",
    "\n",
    "from results.benchmarks import all_names as all_benchmark_names\n",
    "from results.benchmarks import get as get_benchmark\n",
    "\n",
    "problematic_benchmark_names = set()\n",
    "num_samples = 10000\n",
    "D = 1\n",
    "\n",
    "for benchmark_name in all_benchmark_names:\n",
    "    print 'checking', benchmark_name, '...'\n",
    "    benchmark = get_benchmark(benchmark_name)\n",
    "    if not benchmark.is_dimensionality_valid(D):\n",
    "        continue\n",
    "        \n",
    "    for _ in range(num_samples):\n",
    "        xs = np.random.uniform(low=benchmark.min(0), high=benchmark.max(0), size=D)\n",
    "        f = benchmark.function(xs)\n",
    "        if math.isnan(f) or math.isinf(f):\n",
    "            problematic_benchmark_names.add(benchmark_name)\n",
    "            continue\n",
    "\n",
    "print '\\nAll problematic names:'\n",
    "print problematic_benchmark_names"
   ]
  },
  {
   "cell_type": "code",
   "execution_count": 70,
   "metadata": {},
   "outputs": [
    {
     "data": {
      "text/html": [
       "<style>\n",
       "table {float:left}\n",
       "</style>"
      ],
      "text/plain": [
       "<IPython.core.display.HTML object>"
      ]
     },
     "metadata": {},
     "output_type": "display_data"
    }
   ],
   "source": [
    "%%html\n",
    "<style>\n",
    "table {float:left}\n",
    "</style>"
   ]
  },
  {
   "cell_type": "markdown",
   "metadata": {},
   "source": [
    "## Results:\n",
    "\n",
    "Dimensions | Problematic functions\n",
    ":---: | :---:\n",
    "1000 | Schwefel 2.22\n",
    "500 | Schwefel 2.22\n",
    "100 etc | _None_ \n"
   ]
  },
  {
   "cell_type": "markdown",
   "metadata": {},
   "source": [
    "**So it's only Schwefel 2.22.**\n",
    "\n",
    "So should we rather just convert to Decimal in the function body? We should just check what happens if the clients receive Decimal results.\n",
    "\n",
    "(Updated) considerations:\n",
    "\n",
    "1. Can PSO continue processing correctly?\n",
    "2. Diversity doesn't take fitness into account, only position\n",
    "3. Can **each of** the FLCs process Decimals?\n",
    "\n"
   ]
  },
  {
   "cell_type": "markdown",
   "metadata": {},
   "source": [
    "## Can PSO process Decimals?\n",
    "\n",
    "Let's create a Decimal-returning Schwefel 2.22 and run all the PSOs on that to see what happens:"
   ]
  },
  {
   "cell_type": "code",
   "execution_count": null,
   "metadata": {
    "scrolled": false
   },
   "outputs": [
    {
     "name": "stdout",
     "output_type": "stream",
     "text": [
      "D: 5                            \n"
     ]
    },
    {
     "data": {
      "image/png": "[encoded data removed]",
      "text/plain": [
       "<Figure size 432x288 with 4 Axes>"
      ]
     },
     "metadata": {},
     "output_type": "display_data"
    },
    {
     "name": "stdout",
     "output_type": "stream",
     "text": [
      "784 of 1000 ...                                                                                                  "
     ]
    }
   ],
   "source": [
    "from decimal import *\n",
    "import numpy as np\n",
    "\n",
    "# Custom Decimal-returning version of Schwefel 2.22\n",
    "\n",
    "def function_a(xs):\n",
    "#     xs = [Decimal(x) for x in xs]\n",
    "    return np.sum(np.abs(xs)) + np.prod(np.abs(xs))\n",
    "\n",
    "def function_b(xs):\n",
    "    xs = [Decimal(x) for x in xs]\n",
    "    return np.sum(np.abs(xs)) + np.prod(np.abs(xs))\n",
    "\n",
    "# Verify that the custom functon works.\n",
    "\n",
    "# xs = np.full(1000, 9)\n",
    "# print 'f:', function_b(xs)\n",
    "\n",
    "# Test on one PSO\n",
    "\n",
    "\n",
    "from psodroc.pso import gbest_pso\n",
    "from psodroc.measures import diversity\n",
    "from matplotlib import pyplot as plt\n",
    "\n",
    "lower = -10.\n",
    "upper = 10.\n",
    "swarm_size = 10\n",
    "num_iterations = 500\n",
    "Ds = [5, 50, 500]\n",
    "\n",
    "for D in Ds:\n",
    "    # Function A:\n",
    "    gbest_pso.function = function_a\n",
    "    gbest_pso.num_dimensions = D\n",
    "    gbest_pso.lower_bound = lower\n",
    "    gbest_pso.upper_bound = upper\n",
    "    gbest_pso.init_pso_defaults()\n",
    "    gbest_pso.init_swarm(size=swarm_size)\n",
    "    fitnesses_a = []\n",
    "    diversities_a = []\n",
    "    for i in range(num_iterations):\n",
    "        print '\\r                ',\n",
    "        print '\\r', i+1, 'of', 2 * num_iterations, '...',\n",
    "        f = np.mean(gbest_pso.fitnesses)\n",
    "        fitnesses_a.append(f)\n",
    "        d = diversity.avg_distance_around_swarm_centre(gbest_pso.positions)\n",
    "        diversities_a.append(d)\n",
    "        gbest_pso.iterate()\n",
    "    \n",
    "    # Function B:\n",
    "    gbest_pso.function = function_b\n",
    "    gbest_pso.num_dimensions = D\n",
    "    gbest_pso.lower_bound = lower\n",
    "    gbest_pso.upper_bound = upper\n",
    "    gbest_pso.init_pso_defaults()\n",
    "    gbest_pso.init_swarm(size=swarm_size)\n",
    "    fitnesses_b = []\n",
    "    diversities_b = []\n",
    "    for i in range(num_iterations):\n",
    "        print '\\r                ',\n",
    "        print '\\r', i+1+num_iterations, 'of', 2*num_iterations, '...',\n",
    "        f = np.mean(gbest_pso.fitnesses)\n",
    "        fitnesses_b.append(f)\n",
    "        d = diversity.avg_distance_around_swarm_centre(gbest_pso.positions)\n",
    "        diversities_b.append(d)\n",
    "        gbest_pso.iterate()\n",
    "    \n",
    "    # Plot\n",
    "    print '\\r                       \\r',\n",
    "    print 'D:', D\n",
    "    \n",
    "    f, axarr = plt.subplots(2, 2)\n",
    "    # axarr is a [2, 2] array of subplots.\n",
    "    # Use top row for fitnesses, bottom for diversities.\n",
    "    # Use left for function A, right for function B.\n",
    "    axarr[0][0].semilogy(fitnesses_a)\n",
    "    axarr[0][0].set_title('Fitnesses A')\n",
    "    axarr[0][1].semilogy(fitnesses_b)\n",
    "    axarr[0][1].set_title('Fitnesses B')\n",
    "    axarr[1][0].plot(diversities_b)\n",
    "    axarr[1][0].set_title('Diversity A')\n",
    "    axarr[1][1].plot(diversities_b)\n",
    "    axarr[1][1].set_title('Diversity B')\n",
    "    plt.subplots_adjust(wspace=0.5, hspace=0.5)\n",
    "    plt.show()\n"
   ]
  },
  {
   "cell_type": "markdown",
   "metadata": {},
   "source": [
    "# 3. Which datatype is appropriate in PostgreSQL?\n",
    "\n",
    "It's `numeric`.\n",
    "\n",
    "But: \n",
    "\n",
    "1. We don't really store large values in the DB; the issue seems to arise from large fitness values, which are not stored, and the results that were calculated using those fitness values, which are typically normalized to [0,1]. (Except maybe the DRoC values, for which there are some quite small values (around -700), which is well within precision, but might be indicative of invalid fitness values?)\n",
    "2. If we do need very large values (or very close-to-zero ones), I believe we will have to specify the precision, so we need to determine how big is big enough."
   ]
  },
  {
   "cell_type": "markdown",
   "metadata": {},
   "source": [
    "Aside:\n",
    "\n",
    "Playing around with Weierstrass to try and see if it suffers from the same datatype error. It might not."
   ]
  },
  {
   "cell_type": "code",
   "execution_count": 41,
   "metadata": {},
   "outputs": [
    {
     "name": "stdout",
     "output_type": "stream",
     "text": [
      "Schwefel 2.22:\n",
      "inf\n",
      "1.000000000000000000000000000E+1000\n",
      "Weierstrass:\n",
      "3999.99809265\n"
     ]
    }
   ],
   "source": [
    "# Aside; what is the max value of Weierstrass??\n",
    "# (This should be done for every function to determine which have datatype problems.)\n",
    "\n",
    "import numpy as np\n",
    "from decimal import *\n",
    "\n",
    "from psodroc.benchmarks import schwefel_2_22, weierstrass\n",
    "\n",
    "D = 1000\n",
    "\n",
    "print 'Schwefel 2.22:'\n",
    "\n",
    "x = schwefel_2_22.max(0)\n",
    "xs = np.full(D, x)\n",
    "f = schwefel_2_22.function(xs)\n",
    "print f\n",
    "xs = [Decimal(x) for x in xs]\n",
    "f = schwefel_2_22.function(xs)\n",
    "print f\n",
    "\n",
    "print 'Weierstrass:'\n",
    "\n",
    "x = weierstrass.min(0)\n",
    "xs = np.full(D, x)\n",
    "f = weierstrass.function(xs)\n",
    "print f\n",
    "xs = [Decimal(x) for x in xs]\n",
    "# This breaks!\n",
    "# f = weierstrass.function(xs)\n",
    "# print f\n"
   ]
  },
  {
   "cell_type": "code",
   "execution_count": 53,
   "metadata": {},
   "outputs": [
    {
     "data": {
      "text/plain": [
       "True"
      ]
     },
     "execution_count": 53,
     "metadata": {},
     "output_type": "execute_result"
    }
   ],
   "source": [
    "# TMP\n",
    "import math\n",
    "x = float('-inf')\n",
    "# x\n",
    "math.isinf(x)"
   ]
  },
  {
   "cell_type": "code",
   "execution_count": 59,
   "metadata": {},
   "outputs": [
    {
     "data": {
      "text/plain": [
       "{1, 2}"
      ]
     },
     "execution_count": 59,
     "metadata": {},
     "output_type": "execute_result"
    }
   ],
   "source": [
    "xs = set()\n",
    "xs.add(1)\n",
    "xs.add(2)\n",
    "xs.add(1)\n",
    "xs"
   ]
  },
  {
   "cell_type": "code",
   "execution_count": null,
   "metadata": {},
   "outputs": [],
   "source": []
  }
 ],
 "metadata": {
  "kernelspec": {
   "display_name": "Python [conda env:miniconda2]",
   "language": "python",
   "name": "conda-env-miniconda2-py"
  },
  "language_info": {
   "codemirror_mode": {
    "name": "ipython",
    "version": 2
   },
   "file_extension": ".py",
   "mimetype": "text/x-python",
   "name": "python",
   "nbconvert_exporter": "python",
   "pygments_lexer": "ipython2",
   "version": "2.7.15"
  }
 },
 "nbformat": 4,
 "nbformat_minor": 2
}
